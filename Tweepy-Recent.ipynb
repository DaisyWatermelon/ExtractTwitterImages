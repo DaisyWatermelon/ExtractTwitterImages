{
 "cells": [
  {
   "cell_type": "code",
   "execution_count": null,
   "id": "ca76ccc2",
   "metadata": {
    "scrolled": true
   },
   "outputs": [],
   "source": [
    "#install tweepy\n",
    "!pip install tweepy\n",
    "!pip install pandas"
   ]
  },
  {
   "cell_type": "code",
   "execution_count": null,
   "id": "6680b688",
   "metadata": {},
   "outputs": [],
   "source": [
    "#from tweepy import *\n",
    "import tweepy"
   ]
  },
  {
   "cell_type": "code",
   "execution_count": null,
   "id": "87893456",
   "metadata": {},
   "outputs": [],
   "source": [
    "import pandas as pd"
   ]
  },
  {
   "cell_type": "code",
   "execution_count": null,
   "id": "95a63ed8",
   "metadata": {},
   "outputs": [],
   "source": [
    "import csv"
   ]
  },
  {
   "cell_type": "code",
   "execution_count": null,
   "id": "086ca205",
   "metadata": {},
   "outputs": [],
   "source": [
    "import wget"
   ]
  },
  {
   "cell_type": "code",
   "execution_count": null,
   "id": "e1e50adc",
   "metadata": {},
   "outputs": [],
   "source": [
    "import re"
   ]
  },
  {
   "cell_type": "code",
   "execution_count": null,
   "id": "0863f996",
   "metadata": {},
   "outputs": [],
   "source": [
    "import string"
   ]
  },
  {
   "cell_type": "code",
   "execution_count": null,
   "id": "64287c0e",
   "metadata": {},
   "outputs": [],
   "source": [
    "#import preprocessor as p"
   ]
  },
  {
   "cell_type": "code",
   "execution_count": null,
   "id": "b1ec3afd",
   "metadata": {},
   "outputs": [],
   "source": [
    "import pandas as pd"
   ]
  },
  {
   "cell_type": "code",
   "execution_count": null,
   "id": "94bf77da",
   "metadata": {},
   "outputs": [],
   "source": [
    "consumer_key = \"YOUR_CONSUMER_KEY\"\n",
    "consumer_secret = \"YOUR_CONSUMER_SECRET_KEY\"\n",
    "access_token = \"YOUR_ACCESS_TOKEN\"\n",
    "access_token_secret = \"YOUR_ACCESS_TOKEN_KEY\""
   ]
  },
  {
   "cell_type": "code",
   "execution_count": null,
   "id": "2cf8e7e6",
   "metadata": {},
   "outputs": [],
   "source": [
    "def extract_url(tweet):\n",
    "    if 'media' in tweet.entities:\n",
    "        return tweet.entities['media'][0]['media_url_https']\n",
    "    return ''"
   ]
  },
  {
   "cell_type": "code",
   "execution_count": null,
   "id": "9b83ca83",
   "metadata": {},
   "outputs": [],
   "source": [
    "auth = tweepy.OAuthHandler(consumer_key, consumer_secret)\n",
    "auth.set_access_token(access_token, access_token_secret)"
   ]
  },
  {
   "cell_type": "code",
   "execution_count": null,
   "id": "c26948f0",
   "metadata": {},
   "outputs": [],
   "source": [
    "api = tweepy.API(auth,wait_on_rate_limit=True)\n",
    "api = tweepy.API(auth)"
   ]
  },
  {
   "cell_type": "code",
   "execution_count": null,
   "id": "8662abdb",
   "metadata": {},
   "outputs": [],
   "source": [
    "csvFile = open('sample_data_1.csv', 'a')\n",
    "csvWriter = csv.writer(csvFile)"
   ]
  },
  {
   "cell_type": "code",
   "execution_count": null,
   "id": "bcb27cec",
   "metadata": {},
   "outputs": [],
   "source": [
    "first_word = \"WORD_A\"\n",
    "second_word = \"WORD_B\"\n",
    "new_search = first_word + second_word + \" -filter:retweets\"\n",
    "search_words = \"WORD_C\"      "
   ]
  },
  {
   "cell_type": "code",
   "execution_count": null,
   "id": "65e6b920",
   "metadata": {},
   "outputs": [],
   "source": [
    "media_files = set()"
   ]
  },
  {
   "cell_type": "code",
   "execution_count": null,
   "id": "866ae874",
   "metadata": {
    "scrolled": true
   },
   "outputs": [],
   "source": [
    "# Get image url without space in extract_url def\n",
    "# Only download latest image (FAIL)\n",
    "# q={first_word}&{second_word} gets multiple irrelevant images\n",
    "# q='WORD_A AND WORD_B' get multiple WORD_A or WORD_B images\n",
    "\n",
    "for tweet in tweepy.Cursor(api.search_tweets,q=search_words,\n",
    "                           lang=\"en\").items(2000):\n",
    "    csvWriter.writerow([extract_url(tweet), tweet.created_at, tweet.text.encode('utf-8'),tweet.user.screen_name.encode('utf-8'), tweet.user.location.encode('utf-8')])\n",
    "    print(extract_url(tweet))\n",
    "    #wget.download(extract_url(tweet))"
   ]
  },
  {
   "cell_type": "code",
   "execution_count": null,
   "id": "b2b80a76",
   "metadata": {},
   "outputs": [],
   "source": [
    "# Get image url without space in media_files value\n",
    "# Download images successfully\n",
    "for tweet in tweepy.Cursor(api.search_tweets,q='WORD_A AND WORD_B',count=100,\n",
    "                           lang=\"en\",\n",
    "                           since_id=0).items(2000):\n",
    "    csvWriter.writerow([extract_url(tweet), tweet.created_at, tweet.text.encode('utf-8'),tweet.user.screen_name.encode('utf-8'), tweet.user.location.encode('utf-8')])\n",
    "    media = tweet.entities.get('media', [])\n",
    "    if(len(media) > 0):\n",
    "        media_files.add(media[0]['media_url'])\n",
    "for mf in media_files:\n",
    "    print(media_files)\n",
    "    wget.download(mf)"
   ]
  },
  {
   "cell_type": "code",
   "execution_count": null,
   "id": "27f3249d",
   "metadata": {
    "scrolled": false
   },
   "outputs": [],
   "source": [
    "print(tweet)"
   ]
  }
 ],
 "metadata": {
  "kernelspec": {
   "display_name": "Python 3 (ipykernel)",
   "language": "python",
   "name": "python3"
  },
  "language_info": {
   "codemirror_mode": {
    "name": "ipython",
    "version": 3
   },
   "file_extension": ".py",
   "mimetype": "text/x-python",
   "name": "python",
   "nbconvert_exporter": "python",
   "pygments_lexer": "ipython3",
   "version": "3.8.0"
  }
 },
 "nbformat": 4,
 "nbformat_minor": 5
}
